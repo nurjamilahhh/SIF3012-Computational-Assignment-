{
 "cells": [
  {
   "cell_type": "markdown",
   "metadata": {},
   "source": [
    "**SOLVING EIGENVALUE AND TRANSPORT PROBLEM THROUGH 1D SCHRODINGER EQUATION**\n",
    "\n",
    "1D Schrodinger equation is given by:\n",
    "$$-\\frac{\\hbar^2}{2m} \\frac{d^2 \\psi(x)}{dx^2} + V(x)\\psi(x) = E\\psi(x)$$\n",
    "where $m$ is the mass of the particle, $\\hbar$ is the reduced Planck's constant, E is the energy level, $\\psi(x)$ is the wavefunction and $V(x)$ is the potential.\n",
    "\n",
    "We can write the Schrodinger equation in form of $\\psi\"(x)$:\n",
    "$$\\psi\"(x)+\\frac{2m}{\\hbar^2}[E-V(x)]\\psi(x)=0$$\n",
    "which in the same form of linear shooting method (also known as Sturm-Liouville problem) with $p(x)=1$,$q(x)=2m[E-V(x)]/\\hbar^2$ and $r(x)=0$.\n",
    "\n",
    "We start by import all the required libraries. In this code we import two main libraries which are NumPy and matplotlib.pyplot. NumPy provides tools for working with arrays, performing mathematical operations meanwhile matplotlib.pyplot is use for creating visualizations like plots, graphs, and charts."
   ]
  },
  {
   "cell_type": "code",
   "execution_count": 6,
   "metadata": {},
   "outputs": [],
   "source": [
    "import numpy as np\n",
    "import matplotlib.pyplot as plt"
   ]
  },
  {
   "cell_type": "markdown",
   "metadata": {},
   "source": [
    "Next we define all the constants parameters for our potential function and eigenvalues function. We also define the boundary and step size for our graph later."
   ]
  },
  {
   "cell_type": "code",
   "execution_count": 7,
   "metadata": {},
   "outputs": [],
   "source": [
    "# Define all the constants parameter\n",
    "hbar = 1.0      # Reduced Planck's constant\n",
    "m = 1.0         # Mass of particle\n",
    "alpha = 1.0     #alpha parameter for the potential well\n",
    "lambda_ = 4.0   #lambda parameter for the potential well\n",
    "\n",
    "a = -3     # Left boundary\n",
    "b = 3      # Right boundary\n",
    "dx = 0.01  # Step size\n",
    "x = np.arange(a,b,dx)\n"
   ]
  },
  {
   "cell_type": "markdown",
   "metadata": {},
   "source": [
    "Next, we define and plot the potential well for us can visualise the graph of potential first."
   ]
  },
  {
   "cell_type": "code",
   "execution_count": null,
   "metadata": {},
   "outputs": [],
   "source": [
    "# Define the potential well\n",
    "def potential_well(x):\n",
    "    return (hbar ** 2 / (2 * m)) * (alpha ** 2) * lambda_ * (lambda_ - 1) * (0.5 - 1 / (np.cosh(alpha * x)) ** 2)\n",
    "V = potential_well(x)\n",
    "\n",
    "plt.plot(x, V, label=\"Potential V(x)\")\n",
    "plt.grid()"
   ]
  },
  {
   "cell_type": "markdown",
   "metadata": {},
   "source": []
  }
 ],
 "metadata": {
  "kernelspec": {
   "display_name": "base",
   "language": "python",
   "name": "python3"
  },
  "language_info": {
   "codemirror_mode": {
    "name": "ipython",
    "version": 3
   },
   "file_extension": ".py",
   "mimetype": "text/x-python",
   "name": "python",
   "nbconvert_exporter": "python",
   "pygments_lexer": "ipython3",
   "version": "3.11.7"
  }
 },
 "nbformat": 4,
 "nbformat_minor": 2
}
